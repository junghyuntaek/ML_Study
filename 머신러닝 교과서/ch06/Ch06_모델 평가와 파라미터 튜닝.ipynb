{
 "cells": [
  {
   "cell_type": "markdown",
   "id": "22a71865",
   "metadata": {},
   "source": [
    "### 목차\n",
    "\n",
    "1. 파이프라인을 사용한 효율적인 워크플로\n",
    "  - 위스콘신 유방암 데이터셋\n",
    "  - 파이프라인으로 변환기와 추정기 연결\n",
    "2. k-겹 교차 검증을 사용한 모델 성능 평가\n",
    "  - 홀드아웃 방법\n",
    "  - k-겹 교차 검증\n",
    "3. 학습 곡선과 검증 곡선을 사용한 알고리즘 디버깅\n",
    "  - 학습 곡선으로 편향과 분산 문제 분석\n",
    "  - 검증 곡선으로 과대적합과 과소적합 조사\n",
    "4. 그리드 서치를 사용한 머신 러닝 모델 세부 튜닝\n",
    "  - 그리드 서치를 사용한 하이퍼파라미터 튜닝\n",
    "  - 중첩 교차 검증을 사용한 알고리즘 선택\n",
    "5. 여러 가지 성능 평가 지표\n",
    "  - 오차 행렬\n",
    "  - 분류 모델의 정밀도와 재현율 최적화\n",
    "  - ROC 곡선 그리기\n",
    "  - 다중 분류의 성능 지표\n",
    "6. 불균형한 클래스 다루기\n",
    "\n",
    "<hr>"
   ]
  },
  {
   "cell_type": "markdown",
   "id": "67f6023f",
   "metadata": {},
   "source": [
    "# 6.1 파이프라인을 사용한 효율적인 워크플로"
   ]
  },
  {
   "cell_type": "markdown",
   "id": "da56ba1f",
   "metadata": {},
   "source": [
    "## 6.1.1 위스콘신 유방암 데이터셋"
   ]
  },
  {
   "cell_type": "code",
   "execution_count": 1,
   "id": "bbaf11dd",
   "metadata": {},
   "outputs": [
    {
     "data": {
      "text/html": [
       "<div>\n",
       "<style scoped>\n",
       "    .dataframe tbody tr th:only-of-type {\n",
       "        vertical-align: middle;\n",
       "    }\n",
       "\n",
       "    .dataframe tbody tr th {\n",
       "        vertical-align: top;\n",
       "    }\n",
       "\n",
       "    .dataframe thead th {\n",
       "        text-align: right;\n",
       "    }\n",
       "</style>\n",
       "<table border=\"1\" class=\"dataframe\">\n",
       "  <thead>\n",
       "    <tr style=\"text-align: right;\">\n",
       "      <th></th>\n",
       "      <th>0</th>\n",
       "      <th>1</th>\n",
       "      <th>2</th>\n",
       "      <th>3</th>\n",
       "      <th>4</th>\n",
       "      <th>5</th>\n",
       "      <th>6</th>\n",
       "      <th>7</th>\n",
       "      <th>8</th>\n",
       "      <th>9</th>\n",
       "      <th>...</th>\n",
       "      <th>22</th>\n",
       "      <th>23</th>\n",
       "      <th>24</th>\n",
       "      <th>25</th>\n",
       "      <th>26</th>\n",
       "      <th>27</th>\n",
       "      <th>28</th>\n",
       "      <th>29</th>\n",
       "      <th>30</th>\n",
       "      <th>31</th>\n",
       "    </tr>\n",
       "  </thead>\n",
       "  <tbody>\n",
       "    <tr>\n",
       "      <th>0</th>\n",
       "      <td>842302</td>\n",
       "      <td>M</td>\n",
       "      <td>17.99</td>\n",
       "      <td>10.38</td>\n",
       "      <td>122.80</td>\n",
       "      <td>1001.0</td>\n",
       "      <td>0.11840</td>\n",
       "      <td>0.27760</td>\n",
       "      <td>0.3001</td>\n",
       "      <td>0.14710</td>\n",
       "      <td>...</td>\n",
       "      <td>25.38</td>\n",
       "      <td>17.33</td>\n",
       "      <td>184.60</td>\n",
       "      <td>2019.0</td>\n",
       "      <td>0.1622</td>\n",
       "      <td>0.6656</td>\n",
       "      <td>0.7119</td>\n",
       "      <td>0.2654</td>\n",
       "      <td>0.4601</td>\n",
       "      <td>0.11890</td>\n",
       "    </tr>\n",
       "    <tr>\n",
       "      <th>1</th>\n",
       "      <td>842517</td>\n",
       "      <td>M</td>\n",
       "      <td>20.57</td>\n",
       "      <td>17.77</td>\n",
       "      <td>132.90</td>\n",
       "      <td>1326.0</td>\n",
       "      <td>0.08474</td>\n",
       "      <td>0.07864</td>\n",
       "      <td>0.0869</td>\n",
       "      <td>0.07017</td>\n",
       "      <td>...</td>\n",
       "      <td>24.99</td>\n",
       "      <td>23.41</td>\n",
       "      <td>158.80</td>\n",
       "      <td>1956.0</td>\n",
       "      <td>0.1238</td>\n",
       "      <td>0.1866</td>\n",
       "      <td>0.2416</td>\n",
       "      <td>0.1860</td>\n",
       "      <td>0.2750</td>\n",
       "      <td>0.08902</td>\n",
       "    </tr>\n",
       "    <tr>\n",
       "      <th>2</th>\n",
       "      <td>84300903</td>\n",
       "      <td>M</td>\n",
       "      <td>19.69</td>\n",
       "      <td>21.25</td>\n",
       "      <td>130.00</td>\n",
       "      <td>1203.0</td>\n",
       "      <td>0.10960</td>\n",
       "      <td>0.15990</td>\n",
       "      <td>0.1974</td>\n",
       "      <td>0.12790</td>\n",
       "      <td>...</td>\n",
       "      <td>23.57</td>\n",
       "      <td>25.53</td>\n",
       "      <td>152.50</td>\n",
       "      <td>1709.0</td>\n",
       "      <td>0.1444</td>\n",
       "      <td>0.4245</td>\n",
       "      <td>0.4504</td>\n",
       "      <td>0.2430</td>\n",
       "      <td>0.3613</td>\n",
       "      <td>0.08758</td>\n",
       "    </tr>\n",
       "    <tr>\n",
       "      <th>3</th>\n",
       "      <td>84348301</td>\n",
       "      <td>M</td>\n",
       "      <td>11.42</td>\n",
       "      <td>20.38</td>\n",
       "      <td>77.58</td>\n",
       "      <td>386.1</td>\n",
       "      <td>0.14250</td>\n",
       "      <td>0.28390</td>\n",
       "      <td>0.2414</td>\n",
       "      <td>0.10520</td>\n",
       "      <td>...</td>\n",
       "      <td>14.91</td>\n",
       "      <td>26.50</td>\n",
       "      <td>98.87</td>\n",
       "      <td>567.7</td>\n",
       "      <td>0.2098</td>\n",
       "      <td>0.8663</td>\n",
       "      <td>0.6869</td>\n",
       "      <td>0.2575</td>\n",
       "      <td>0.6638</td>\n",
       "      <td>0.17300</td>\n",
       "    </tr>\n",
       "    <tr>\n",
       "      <th>4</th>\n",
       "      <td>84358402</td>\n",
       "      <td>M</td>\n",
       "      <td>20.29</td>\n",
       "      <td>14.34</td>\n",
       "      <td>135.10</td>\n",
       "      <td>1297.0</td>\n",
       "      <td>0.10030</td>\n",
       "      <td>0.13280</td>\n",
       "      <td>0.1980</td>\n",
       "      <td>0.10430</td>\n",
       "      <td>...</td>\n",
       "      <td>22.54</td>\n",
       "      <td>16.67</td>\n",
       "      <td>152.20</td>\n",
       "      <td>1575.0</td>\n",
       "      <td>0.1374</td>\n",
       "      <td>0.2050</td>\n",
       "      <td>0.4000</td>\n",
       "      <td>0.1625</td>\n",
       "      <td>0.2364</td>\n",
       "      <td>0.07678</td>\n",
       "    </tr>\n",
       "  </tbody>\n",
       "</table>\n",
       "<p>5 rows × 32 columns</p>\n",
       "</div>"
      ],
      "text/plain": [
       "         0  1      2      3       4       5        6        7       8   \\\n",
       "0    842302  M  17.99  10.38  122.80  1001.0  0.11840  0.27760  0.3001   \n",
       "1    842517  M  20.57  17.77  132.90  1326.0  0.08474  0.07864  0.0869   \n",
       "2  84300903  M  19.69  21.25  130.00  1203.0  0.10960  0.15990  0.1974   \n",
       "3  84348301  M  11.42  20.38   77.58   386.1  0.14250  0.28390  0.2414   \n",
       "4  84358402  M  20.29  14.34  135.10  1297.0  0.10030  0.13280  0.1980   \n",
       "\n",
       "        9   ...     22     23      24      25      26      27      28      29  \\\n",
       "0  0.14710  ...  25.38  17.33  184.60  2019.0  0.1622  0.6656  0.7119  0.2654   \n",
       "1  0.07017  ...  24.99  23.41  158.80  1956.0  0.1238  0.1866  0.2416  0.1860   \n",
       "2  0.12790  ...  23.57  25.53  152.50  1709.0  0.1444  0.4245  0.4504  0.2430   \n",
       "3  0.10520  ...  14.91  26.50   98.87   567.7  0.2098  0.8663  0.6869  0.2575   \n",
       "4  0.10430  ...  22.54  16.67  152.20  1575.0  0.1374  0.2050  0.4000  0.1625   \n",
       "\n",
       "       30       31  \n",
       "0  0.4601  0.11890  \n",
       "1  0.2750  0.08902  \n",
       "2  0.3613  0.08758  \n",
       "3  0.6638  0.17300  \n",
       "4  0.2364  0.07678  \n",
       "\n",
       "[5 rows x 32 columns]"
      ]
     },
     "execution_count": 1,
     "metadata": {},
     "output_type": "execute_result"
    }
   ],
   "source": [
    "from IPython.display import Image\n",
    "import pandas as pd\n",
    "\n",
    "df = pd.read_csv('https://archive.ics.uci.edu/ml/'\n",
    "                 'machine-learning-databases'\n",
    "                 '/breast-cancer-wisconsin/wdbc.data', header=None)\n",
    "\n",
    "df.head()"
   ]
  },
  {
   "cell_type": "code",
   "execution_count": 2,
   "id": "d9791fb6",
   "metadata": {},
   "outputs": [
    {
     "data": {
      "text/plain": [
       "(569, 32)"
      ]
     },
     "execution_count": 2,
     "metadata": {},
     "output_type": "execute_result"
    }
   ],
   "source": [
    "df.shape"
   ]
  },
  {
   "cell_type": "markdown",
   "id": "2f6c3559",
   "metadata": {},
   "source": [
    "<hr>"
   ]
  },
  {
   "cell_type": "code",
   "execution_count": 3,
   "id": "ea25fd00",
   "metadata": {},
   "outputs": [
    {
     "name": "stdout",
     "output_type": "stream",
     "text": [
      "['B' 'M']\n",
      "[1 0]\n"
     ]
    }
   ],
   "source": [
    "from sklearn.preprocessing import LabelEncoder\n",
    "\n",
    "X = df.loc[:, 2:].values\n",
    "y = df.loc[:, 1].values\n",
    "le = LabelEncoder()\n",
    "y = le.fit_transform(y)\n",
    "print(le.classes_)\n",
    "print(le.transform(['M', 'B']))"
   ]
  },
  {
   "cell_type": "code",
   "execution_count": 4,
   "id": "bc410848",
   "metadata": {},
   "outputs": [],
   "source": [
    "from sklearn.model_selection import train_test_split\n",
    "\n",
    "X_train, X_test, y_train, y_test = \\\n",
    "    train_test_split(X, y, \n",
    "                     test_size=0.20,\n",
    "                     stratify=y,\n",
    "                     random_state=1)"
   ]
  },
  {
   "cell_type": "markdown",
   "id": "29a1b68f",
   "metadata": {},
   "source": [
    "## 6.1.2 파이프라인으로 변환기와 추정기 연결"
   ]
  },
  {
   "cell_type": "markdown",
   "id": "8fc81cd2",
   "metadata": {},
   "source": [
    "사이킷런의 make_pipeline 함수는 여러 개의 사이킷런 변환기 + 사이킷런 추정기를 연결할 수 있게 해줍니다.  "
   ]
  },
  {
   "cell_type": "code",
   "execution_count": 5,
   "id": "01c2e3f3",
   "metadata": {},
   "outputs": [
    {
     "name": "stdout",
     "output_type": "stream",
     "text": [
      "테스트 정확도: 0.956\n"
     ]
    }
   ],
   "source": [
    "from sklearn.preprocessing import StandardScaler\n",
    "from sklearn.decomposition import PCA\n",
    "from sklearn.linear_model import LogisticRegression\n",
    "from sklearn.pipeline import make_pipeline\n",
    "\n",
    "pipe_lr = make_pipeline(StandardScaler(),\n",
    "                        PCA(n_components=2),\n",
    "                        LogisticRegression(random_state=1))\n",
    "\n",
    "pipe_lr.fit(X_train, y_train)\n",
    "y_pred = pipe_lr.predict(X_test)\n",
    "print('테스트 정확도: %.3f' % pipe_lr.score(X_test, y_test))"
   ]
  },
  {
   "cell_type": "markdown",
   "id": "f3667389",
   "metadata": {},
   "source": [
    "주피터 노브툭에 시각화된 사이킷런 추정기"
   ]
  },
  {
   "cell_type": "code",
   "execution_count": 6,
   "id": "31ec6f4a",
   "metadata": {},
   "outputs": [
    {
     "data": {
      "text/html": [
       "<style>#sk-8e151f1b-2c93-47bb-bda8-c1cabe573154 {color: black;background-color: white;}#sk-8e151f1b-2c93-47bb-bda8-c1cabe573154 pre{padding: 0;}#sk-8e151f1b-2c93-47bb-bda8-c1cabe573154 div.sk-toggleable {background-color: white;}#sk-8e151f1b-2c93-47bb-bda8-c1cabe573154 label.sk-toggleable__label {cursor: pointer;display: block;width: 100%;margin-bottom: 0;padding: 0.2em 0.3em;box-sizing: border-box;text-align: center;}#sk-8e151f1b-2c93-47bb-bda8-c1cabe573154 div.sk-toggleable__content {max-height: 0;max-width: 0;overflow: hidden;text-align: left;background-color: #f0f8ff;}#sk-8e151f1b-2c93-47bb-bda8-c1cabe573154 div.sk-toggleable__content pre {margin: 0.2em;color: black;border-radius: 0.25em;background-color: #f0f8ff;}#sk-8e151f1b-2c93-47bb-bda8-c1cabe573154 input.sk-toggleable__control:checked~div.sk-toggleable__content {max-height: 200px;max-width: 100%;overflow: auto;}#sk-8e151f1b-2c93-47bb-bda8-c1cabe573154 div.sk-estimator input.sk-toggleable__control:checked~label.sk-toggleable__label {background-color: #d4ebff;}#sk-8e151f1b-2c93-47bb-bda8-c1cabe573154 div.sk-label input.sk-toggleable__control:checked~label.sk-toggleable__label {background-color: #d4ebff;}#sk-8e151f1b-2c93-47bb-bda8-c1cabe573154 input.sk-hidden--visually {border: 0;clip: rect(1px 1px 1px 1px);clip: rect(1px, 1px, 1px, 1px);height: 1px;margin: -1px;overflow: hidden;padding: 0;position: absolute;width: 1px;}#sk-8e151f1b-2c93-47bb-bda8-c1cabe573154 div.sk-estimator {font-family: monospace;background-color: #f0f8ff;margin: 0.25em 0.25em;border: 1px dotted black;border-radius: 0.25em;box-sizing: border-box;}#sk-8e151f1b-2c93-47bb-bda8-c1cabe573154 div.sk-estimator:hover {background-color: #d4ebff;}#sk-8e151f1b-2c93-47bb-bda8-c1cabe573154 div.sk-parallel-item::after {content: \"\";width: 100%;border-bottom: 1px solid gray;flex-grow: 1;}#sk-8e151f1b-2c93-47bb-bda8-c1cabe573154 div.sk-label:hover label.sk-toggleable__label {background-color: #d4ebff;}#sk-8e151f1b-2c93-47bb-bda8-c1cabe573154 div.sk-serial::before {content: \"\";position: absolute;border-left: 1px solid gray;box-sizing: border-box;top: 2em;bottom: 0;left: 50%;}#sk-8e151f1b-2c93-47bb-bda8-c1cabe573154 div.sk-serial {display: flex;flex-direction: column;align-items: center;background-color: white;}#sk-8e151f1b-2c93-47bb-bda8-c1cabe573154 div.sk-item {z-index: 1;}#sk-8e151f1b-2c93-47bb-bda8-c1cabe573154 div.sk-parallel {display: flex;align-items: stretch;justify-content: center;background-color: white;}#sk-8e151f1b-2c93-47bb-bda8-c1cabe573154 div.sk-parallel-item {display: flex;flex-direction: column;position: relative;background-color: white;}#sk-8e151f1b-2c93-47bb-bda8-c1cabe573154 div.sk-parallel-item:first-child::after {align-self: flex-end;width: 50%;}#sk-8e151f1b-2c93-47bb-bda8-c1cabe573154 div.sk-parallel-item:last-child::after {align-self: flex-start;width: 50%;}#sk-8e151f1b-2c93-47bb-bda8-c1cabe573154 div.sk-parallel-item:only-child::after {width: 0;}#sk-8e151f1b-2c93-47bb-bda8-c1cabe573154 div.sk-dashed-wrapped {border: 1px dashed gray;margin: 0.2em;box-sizing: border-box;padding-bottom: 0.1em;background-color: white;position: relative;}#sk-8e151f1b-2c93-47bb-bda8-c1cabe573154 div.sk-label label {font-family: monospace;font-weight: bold;background-color: white;display: inline-block;line-height: 1.2em;}#sk-8e151f1b-2c93-47bb-bda8-c1cabe573154 div.sk-label-container {position: relative;z-index: 2;text-align: center;}#sk-8e151f1b-2c93-47bb-bda8-c1cabe573154 div.sk-container {display: inline-block;position: relative;}</style><div id=\"sk-8e151f1b-2c93-47bb-bda8-c1cabe573154\" class\"sk-top-container\"><div class=\"sk-container\"><div class=\"sk-item sk-dashed-wrapped\"><div class=\"sk-label-container\"><div class=\"sk-label sk-toggleable\"><input class=\"sk-toggleable__control sk-hidden--visually\" id=\"7669547f-7dcf-496a-9e44-ceb9c96aeb37\" type=\"checkbox\" ><label class=\"sk-toggleable__label\" for=\"7669547f-7dcf-496a-9e44-ceb9c96aeb37\">Pipeline</label><div class=\"sk-toggleable__content\"><pre>Pipeline(steps=[('standardscaler', StandardScaler()),\n",
       "                ('pca', PCA(n_components=2)),\n",
       "                ('logisticregression', LogisticRegression(random_state=1))])</pre></div></div></div><div class=\"sk-serial\"><div class=\"sk-item\"><div class=\"sk-estimator sk-toggleable\"><input class=\"sk-toggleable__control sk-hidden--visually\" id=\"18300472-cc35-4fa5-9116-0676d147b484\" type=\"checkbox\" ><label class=\"sk-toggleable__label\" for=\"18300472-cc35-4fa5-9116-0676d147b484\">StandardScaler</label><div class=\"sk-toggleable__content\"><pre>StandardScaler()</pre></div></div></div><div class=\"sk-item\"><div class=\"sk-estimator sk-toggleable\"><input class=\"sk-toggleable__control sk-hidden--visually\" id=\"fb47be40-367b-4439-93da-2975ac15737f\" type=\"checkbox\" ><label class=\"sk-toggleable__label\" for=\"fb47be40-367b-4439-93da-2975ac15737f\">PCA</label><div class=\"sk-toggleable__content\"><pre>PCA(n_components=2)</pre></div></div></div><div class=\"sk-item\"><div class=\"sk-estimator sk-toggleable\"><input class=\"sk-toggleable__control sk-hidden--visually\" id=\"d634a73d-04a8-4148-acee-baa11630dc7a\" type=\"checkbox\" ><label class=\"sk-toggleable__label\" for=\"d634a73d-04a8-4148-acee-baa11630dc7a\">LogisticRegression</label><div class=\"sk-toggleable__content\"><pre>LogisticRegression(random_state=1)</pre></div></div></div></div></div></div></div>"
      ],
      "text/plain": [
       "Pipeline(steps=[('standardscaler', StandardScaler()),\n",
       "                ('pca', PCA(n_components=2)),\n",
       "                ('logisticregression', LogisticRegression(random_state=1))])"
      ]
     },
     "execution_count": 6,
     "metadata": {},
     "output_type": "execute_result"
    }
   ],
   "source": [
    "import matplotlib.pyplot as plt\n",
    "from sklearn import set_config\n",
    "set_config(display='diagram')\n",
    "pipe_lr"
   ]
  },
  {
   "cell_type": "code",
   "execution_count": 7,
   "id": "703acc06",
   "metadata": {},
   "outputs": [
    {
     "data": {
      "text/html": [
       "<img src=\"https://git.io/JtsTr\" width=\"500\"/>"
      ],
      "text/plain": [
       "<IPython.core.display.Image object>"
      ]
     },
     "execution_count": 7,
     "metadata": {},
     "output_type": "execute_result"
    }
   ],
   "source": [
    "Image(url='https://git.io/JtsTr', width=500) "
   ]
  },
  {
   "cell_type": "markdown",
   "id": "e253dbd4",
   "metadata": {},
   "source": [
    "<hr>\n",
    "\n",
    "# 6.2 k-겹 교차 검증을 사용한 모델 성능 평가"
   ]
  },
  {
   "cell_type": "markdown",
   "id": "983b8e2f",
   "metadata": {},
   "source": [
    "## 6.2.1 홀드아웃 방법"
   ]
  },
  {
   "cell_type": "markdown",
   "id": "9aaefb46",
   "metadata": {},
   "source": [
    "테스트 데이터셋을 예측에 사용하는 것은 과적합을 만들 수 있으므로 좋은 방식이 아님  \n",
    "그래서 데이터를 train_set, valid_set, test_set 3 부분으로 나누어 주고 valid_set을 모델 선택에 사용  \n",
    "-> 훈련과 모델 선택 단계에서 모델이 만나지 못한 test_set을 분리했기 때문에 새로운 데이터에 대한 일반화 능력을 덜 편향되게 추정할 수 있음"
   ]
  },
  {
   "cell_type": "code",
   "execution_count": 8,
   "id": "28da2b7f",
   "metadata": {},
   "outputs": [
    {
     "data": {
      "text/html": [
       "<img src=\"https://git.io/JtsTo\" width=\"500\"/>"
      ],
      "text/plain": [
       "<IPython.core.display.Image object>"
      ]
     },
     "execution_count": 8,
     "metadata": {},
     "output_type": "execute_result"
    }
   ],
   "source": [
    "Image(url='https://git.io/JtsTo', width=500) "
   ]
  },
  {
   "cell_type": "markdown",
   "id": "0d1e6394",
   "metadata": {},
   "source": [
    "## 6.2.2 K-겹 교차 검증"
   ]
  },
  {
   "cell_type": "markdown",
   "id": "98d806e3",
   "metadata": {},
   "source": [
    "k-겹 교차 검증이 중복을 허용하지 않는 리샘플링 기법이어서 모든 샘플 포인트가 훈련하는 동안 test fold가 딱 한 번 사용된다.  \n",
    "- 여러번 나눠 훈련하기 때문에 과적합을 방지해준다\n",
    "- 기본 홀드아웃 방법보다 모델 성능의 추정에 분산이 낮다\n",
    "- k-겹 교차 검증에서 좋은 기본값은 k=10"
   ]
  },
  {
   "cell_type": "code",
   "execution_count": 9,
   "id": "350ad9bc",
   "metadata": {},
   "outputs": [
    {
     "data": {
      "text/html": [
       "<img src=\"https://git.io/JtsT6\" width=\"500\"/>"
      ],
      "text/plain": [
       "<IPython.core.display.Image object>"
      ]
     },
     "execution_count": 9,
     "metadata": {},
     "output_type": "execute_result"
    }
   ],
   "source": [
    "Image(url='https://git.io/JtsT6', width=500) "
   ]
  },
  {
   "cell_type": "markdown",
   "id": "0c3bc72e",
   "metadata": {},
   "source": [
    "#### 계층적 k-겹 교차 검증\n",
    "\n",
    "각 폴드에서 클래스 비율을 동등하게 유지시켜 사용"
   ]
  },
  {
   "cell_type": "code",
   "execution_count": 10,
   "id": "92129db0",
   "metadata": {},
   "outputs": [
    {
     "name": "stdout",
     "output_type": "stream",
     "text": [
      "폴드: 1, 클래스 분포: [256 153], 정확도: 0.935\n",
      "폴드: 2, 클래스 분포: [256 153], 정확도: 0.935\n",
      "폴드: 3, 클래스 분포: [256 153], 정확도: 0.957\n",
      "폴드: 4, 클래스 분포: [256 153], 정확도: 0.957\n",
      "폴드: 5, 클래스 분포: [256 153], 정확도: 0.935\n",
      "폴드: 6, 클래스 분포: [257 153], 정확도: 0.956\n",
      "폴드: 7, 클래스 분포: [257 153], 정확도: 0.978\n",
      "폴드: 8, 클래스 분포: [257 153], 정확도: 0.933\n",
      "폴드: 9, 클래스 분포: [257 153], 정확도: 0.956\n",
      "폴드: 10, 클래스 분포: [257 153], 정확도: 0.956\n",
      "\n",
      "CV 정확도: 0.950 +/- 0.014\n"
     ]
    }
   ],
   "source": [
    "import numpy as np\n",
    "from sklearn.model_selection import StratifiedKFold\n",
    "\n",
    "kfold = StratifiedKFold(n_splits=10).split(X_train, y_train)\n",
    "\n",
    "scores = []\n",
    "for k, (train, test) in enumerate(kfold):\n",
    "    pipe_lr.fit(X_train[train], y_train[train])\n",
    "    score = pipe_lr.score(X_train[test], y_train[test])\n",
    "    scores.append(score)\n",
    "    print(f'폴드: {k+1}, 클래스 분포: {np.bincount(y_train[train])}, 정확도: {score:.3f}')\n",
    "    \n",
    "print('\\nCV 정확도: %.3f +/- %.3f' % (np.mean(scores), np.std(scores)))"
   ]
  },
  {
   "cell_type": "code",
   "execution_count": 11,
   "id": "cc06750f",
   "metadata": {},
   "outputs": [
    {
     "name": "stdout",
     "output_type": "stream",
     "text": [
      "CV 정확도 점수: [0.93478261 0.93478261 0.95652174 0.95652174 0.93478261 0.95555556\n",
      " 0.97777778 0.93333333 0.95555556 0.95555556]\n",
      "CV 정확도: 0.950 +/- 0.014\n"
     ]
    }
   ],
   "source": [
    "from sklearn.model_selection import cross_val_score\n",
    "\n",
    "scores = cross_val_score(estimator=pipe_lr,\n",
    "                         X=X_train,\n",
    "                         y=y_train,\n",
    "                         cv=10,\n",
    "                         n_jobs=1)\n",
    "print('CV 정확도 점수: %s' % scores)\n",
    "print('CV 정확도: %.3f +/- %.3f' % (np.mean(scores), np.std(scores)))"
   ]
  },
  {
   "cell_type": "markdown",
   "id": "613a99c8",
   "metadata": {},
   "source": [
    "cross_val_score의 유용한 기능은 각 폴드의 평가를 컴퓨터에 있는 복수 개의 CPU코어에 분산할 수 있다는 점이다.  \n",
    "n_jobs=1 -> 1개의 CPU코어가 분산  \n",
    "n_jobs=2 -> 2개의 CPU코어가 분산  \n",
    "n_jobs=-1 -> 컴퓨터에 설치된 모든 CPU코어가 분산"
   ]
  },
  {
   "cell_type": "code",
   "execution_count": 12,
   "id": "9d6796db",
   "metadata": {},
   "outputs": [
    {
     "name": "stdout",
     "output_type": "stream",
     "text": [
      "CV 정확도 점수: [0.93478261 0.93478261 0.95652174 0.95652174 0.93478261 0.95555556\n",
      " 0.97777778 0.93333333 0.95555556 0.95555556]\n",
      "CV 정확도: 0.950 +/- 0.014\n"
     ]
    }
   ],
   "source": [
    "from sklearn.model_selection import cross_validate\n",
    "\n",
    "scores = cross_validate(estimator=pipe_lr, \n",
    "                        X=X_train, \n",
    "                        y=y_train, \n",
    "                        scoring=['accuracy'], \n",
    "                        cv=10, \n",
    "                        n_jobs=-1)\n",
    "print('CV 정확도 점수: %s' % scores['test_accuracy'])\n",
    "print('CV 정확도: %.3f +/- %.3f' % (np.mean(scores['test_accuracy']), \n",
    "                                 np.std(scores['test_accuracy'])))"
   ]
  },
  {
   "cell_type": "markdown",
   "id": "ac07eb73",
   "metadata": {},
   "source": [
    "`cross_val_predict` 함수는 `cross_val_score`와 비슷한 인터페이스를 제공하지만 훈련 데이터셋의 각 샘플이 테스트 폴드가 되었을 때 만들어진 예측을 반환합니다. 따라서 `cross_val_predict` 함수의 결과를 사용해 모델의 성능(예를 들어, 정확도)을 계산하면 `cross_val_score` 함수의 결과와 다르며 바람직한 일반화 성능 추정이 아닙니다. `cross_val_predict` 함수의 사용 용도는 훈련 세트에 대한 예측 결과를 시각화하거나 7장에서 소개하는 스태킹(Stacking) 앙상블(Ensemble) 방법처럼 다른 모델에 주입할 훈련 데이터를 만들기 위해 사용합니다."
   ]
  },
  {
   "cell_type": "code",
   "execution_count": 13,
   "id": "ad001528",
   "metadata": {},
   "outputs": [
    {
     "data": {
      "text/plain": [
       "array([0, 0, 0, 0, 0, 0, 0, 1, 1, 1])"
      ]
     },
     "execution_count": 13,
     "metadata": {},
     "output_type": "execute_result"
    }
   ],
   "source": [
    "from sklearn.model_selection import cross_val_predict\n",
    "\n",
    "preds = cross_val_predict(estimator=pipe_lr,\n",
    "                          X=X_train, \n",
    "                          y=y_train,\n",
    "                          cv=10, \n",
    "                          n_jobs=-1)\n",
    "preds[:10]"
   ]
  },
  {
   "cell_type": "markdown",
   "id": "91c0aeaf",
   "metadata": {},
   "source": [
    "`method` 매개변수에 반환될 값을 계산하기 위한 모델의 메서드를 지정할 수 있습니다. 예를 들어 `method='predict_proba'`로 지정하면 예측 확률을 반환합니다. `‘predict’`, `‘predict_proba’`, `‘predict_log_proba’`, `‘decision_function’` 등이 가능하며 기본값은 `'predict'`입니다."
   ]
  },
  {
   "cell_type": "code",
   "execution_count": 14,
   "id": "1e449c17",
   "metadata": {},
   "outputs": [
    {
     "data": {
      "text/plain": [
       "array([[9.93982352e-01, 6.01764759e-03],\n",
       "       [7.64328337e-01, 2.35671663e-01],\n",
       "       [9.72683946e-01, 2.73160539e-02],\n",
       "       [8.41658121e-01, 1.58341879e-01],\n",
       "       [9.97144940e-01, 2.85506043e-03],\n",
       "       [9.99803660e-01, 1.96339882e-04],\n",
       "       [9.99324159e-01, 6.75840609e-04],\n",
       "       [2.12145074e-06, 9.99997879e-01],\n",
       "       [1.28668437e-01, 8.71331563e-01],\n",
       "       [7.76260670e-04, 9.99223739e-01]])"
      ]
     },
     "execution_count": 14,
     "metadata": {},
     "output_type": "execute_result"
    }
   ],
   "source": [
    "from sklearn.model_selection import cross_val_predict\n",
    "\n",
    "preds = cross_val_predict(estimator=pipe_lr,\n",
    "                          X=X_train, \n",
    "                          y=y_train,\n",
    "                          cv=10, \n",
    "                          method='predict_proba', \n",
    "                          n_jobs=-1)\n",
    "preds[:10]"
   ]
  },
  {
   "cell_type": "markdown",
   "id": "205997b4",
   "metadata": {},
   "source": [
    "<hr>\n",
    "\n",
    "# 6.3 학습 곡선과 검증 곡선을 사용한 알고리즘 디버깅"
   ]
  },
  {
   "cell_type": "markdown",
   "id": "36903611",
   "metadata": {},
   "source": [
    "## 6.3.1 학습 곡선으로 편향과 분산 문제 분석"
   ]
  },
  {
   "cell_type": "code",
   "execution_count": 15,
   "id": "ca48e9a0",
   "metadata": {},
   "outputs": [
    {
     "data": {
      "text/html": [
       "<img src=\"https://git.io/JtsTi\" width=\"600\"/>"
      ],
      "text/plain": [
       "<IPython.core.display.Image object>"
      ]
     },
     "execution_count": 15,
     "metadata": {},
     "output_type": "execute_result"
    }
   ],
   "source": [
    "Image(url='https://git.io/JtsTi', width=600) "
   ]
  },
  {
   "cell_type": "code",
   "execution_count": 16,
   "id": "f91ddeb3",
   "metadata": {},
   "outputs": [
    {
     "data": {
      "image/png": "[encoded data removed]",
      "text/plain": [
       "<Figure size 432x288 with 1 Axes>"
      ]
     },
     "metadata": {
      "needs_background": "light"
     },
     "output_type": "display_data"
    }
   ],
   "source": [
    "import matplotlib.pyplot as plt\n",
    "from sklearn.model_selection import learning_curve\n",
    "\n",
    "\n",
    "pipe_lr = make_pipeline(StandardScaler(),\n",
    "                        LogisticRegression(penalty='l2', random_state=1,\n",
    "                                           max_iter=10000))\n",
    "\n",
    "train_sizes, train_scores, test_scores =\\\n",
    "                learning_curve(estimator=pipe_lr,\n",
    "                               X=X_train,\n",
    "                               y=y_train,\n",
    "                               train_sizes=np.linspace(0.1, 1.0, 10),\n",
    "                               cv=10,\n",
    "                               n_jobs=1)\n",
    "\n",
    "train_mean = np.mean(train_scores, axis=1)\n",
    "train_std = np.std(train_scores, axis=1)\n",
    "test_mean = np.mean(test_scores, axis=1)\n",
    "test_std = np.std(test_scores, axis=1)\n",
    "\n",
    "plt.plot(train_sizes, train_mean,\n",
    "         color='blue', marker='o',\n",
    "         markersize=5, label='Training accuracy')\n",
    "\n",
    "plt.fill_between(train_sizes,\n",
    "                 train_mean + train_std,\n",
    "                 train_mean - train_std,\n",
    "                 alpha=0.15, color='blue')\n",
    "\n",
    "plt.plot(train_sizes, test_mean,\n",
    "         color='green', linestyle='--',\n",
    "         marker='s', markersize=5,\n",
    "         label='Validation accuracy')\n",
    "\n",
    "plt.fill_between(train_sizes,\n",
    "                 test_mean + test_std,\n",
    "                 test_mean - test_std,\n",
    "                 alpha=0.15, color='green')\n",
    "\n",
    "plt.grid()\n",
    "plt.xlabel('Number of training examples')\n",
    "plt.ylabel('Accuracy')\n",
    "plt.legend(loc='lower right')\n",
    "plt.ylim([0.8, 1.03])\n",
    "plt.tight_layout()\n",
    "plt.show()"
   ]
  },
  {
   "cell_type": "markdown",
   "id": "e0d15afc",
   "metadata": {},
   "source": [
    "## 6.3.2 검증 곡선으로 과대적합과 과소적합 조사"
   ]
  },
  {
   "cell_type": "code",
   "execution_count": 17,
   "id": "1f2ef921",
   "metadata": {},
   "outputs": [
    {
     "data": {
      "image/png": "[encoded data removed]",
      "text/plain": [
       "<Figure size 432x288 with 1 Axes>"
      ]
     },
     "metadata": {
      "needs_background": "light"
     },
     "output_type": "display_data"
    }
   ],
   "source": [
    "from sklearn.model_selection import validation_curve\n",
    "\n",
    "\n",
    "param_range = [0.001, 0.01, 0.1, 1.0, 10.0, 100.0]\n",
    "train_scores, test_scores = validation_curve(\n",
    "                estimator=pipe_lr, \n",
    "                X=X_train, \n",
    "                y=y_train, \n",
    "                param_name='logisticregression__C', \n",
    "                param_range=param_range,\n",
    "                cv=10)\n",
    "\n",
    "train_mean = np.mean(train_scores, axis=1)\n",
    "train_std = np.std(train_scores, axis=1)\n",
    "test_mean = np.mean(test_scores, axis=1)\n",
    "test_std = np.std(test_scores, axis=1)\n",
    "\n",
    "plt.plot(param_range, train_mean, \n",
    "         color='blue', marker='o', \n",
    "         markersize=5, label='Training accuracy')\n",
    "\n",
    "plt.fill_between(param_range, train_mean + train_std,\n",
    "                 train_mean - train_std, alpha=0.15,\n",
    "                 color='blue')\n",
    "\n",
    "plt.plot(param_range, test_mean, \n",
    "         color='green', linestyle='--', \n",
    "         marker='s', markersize=5, \n",
    "         label='Validation accuracy')\n",
    "\n",
    "plt.fill_between(param_range, \n",
    "                 test_mean + test_std,\n",
    "                 test_mean - test_std, \n",
    "                 alpha=0.15, color='green')\n",
    "\n",
    "plt.grid()\n",
    "plt.xscale('log')\n",
    "plt.legend(loc='lower right')\n",
    "plt.xlabel('Parameter C')\n",
    "plt.ylabel('Accuracy')\n",
    "plt.ylim([0.8, 1.0])\n",
    "plt.tight_layout()\n",
    "plt.show()"
   ]
  },
  {
   "cell_type": "markdown",
   "id": "ee0846ff",
   "metadata": {},
   "source": [
    "learning_curve 함수와 비슷하게 validation_curve 함수는 기본적으로 계층별 k-겹 교차 검증을 사용하여 모델의 성능을 추정  \n",
    "규제 강도를 높이면(C값을 줄이면) 모델이 과소적합 됨  \n",
    "규제 강도을 줄이면(C값을 늘이면) 모델이 과대적합 됨  \n",
    "이 경우 적절한 C값은 0.01과 1 사이로 보인다."
   ]
  },
  {
   "cell_type": "markdown",
   "id": "13ab2877",
   "metadata": {},
   "source": [
    "<hr>\n",
    "\n",
    "# 6.4 그리드 서치를 사용한 머신 러닝 모델 세부 튜닝"
   ]
  },
  {
   "cell_type": "markdown",
   "id": "4fe740d8",
   "metadata": {},
   "source": [
    "## 6.4.1 그리드 서치를 사용한 하이퍼파라미터 튜닝"
   ]
  },
  {
   "cell_type": "markdown",
   "id": "34102a75",
   "metadata": {},
   "source": [
    "그리드 서치란 쉽게 리스트로 지정된 여러 가지 하이퍼파라미터 값 전체를 조사하는 방식입니다."
   ]
  },
  {
   "cell_type": "code",
   "execution_count": 18,
   "id": "8cb78e7d",
   "metadata": {},
   "outputs": [
    {
     "name": "stdout",
     "output_type": "stream",
     "text": [
      "0.9846859903381642\n",
      "{'svc__C': 100.0, 'svc__gamma': 0.001, 'svc__kernel': 'rbf'}\n"
     ]
    }
   ],
   "source": [
    "from sklearn.model_selection import GridSearchCV\n",
    "from sklearn.svm import SVC\n",
    "\n",
    "pipe_svc = make_pipeline(StandardScaler(),\n",
    "                         SVC(random_state=1))\n",
    "\n",
    "param_range = [0.0001, 0.001, 0.01, 0.1, 1.0, 10.0, 100.0, 1000.0]\n",
    "\n",
    "param_grid = [{'svc__C': param_range, \n",
    "               'svc__kernel': ['linear']},\n",
    "              {'svc__C': param_range, \n",
    "               'svc__gamma': param_range, \n",
    "               'svc__kernel': ['rbf']}]\n",
    "\n",
    "gs = GridSearchCV(estimator=pipe_svc, \n",
    "                  param_grid=param_grid, \n",
    "                  scoring='accuracy', \n",
    "                  refit=True,\n",
    "                  cv=10,\n",
    "                  n_jobs=-1)\n",
    "gs = gs.fit(X_train, y_train)\n",
    "print(gs.best_score_)\n",
    "print(gs.best_params_)"
   ]
  },
  {
   "cell_type": "code",
   "execution_count": 19,
   "id": "50eb2d55",
   "metadata": {},
   "outputs": [
    {
     "name": "stdout",
     "output_type": "stream",
     "text": [
      "테스트 정확도: 0.974\n"
     ]
    }
   ],
   "source": [
    "clf = gs.best_estimator_\n",
    "\n",
    "# refit=True로 지정했기 때문에 다시 fit() 메서드를 호출할 필요가 없습니다.\n",
    "# clf.fit(X_train, y_train)\n",
    "\n",
    "print('테스트 정확도: %.3f' % clf.score(X_test, y_test))"
   ]
  },
  {
   "cell_type": "markdown",
   "id": "1a01741d",
   "metadata": {},
   "source": [
    "`GridSearchCV` 클래스와 `cross_valiate` 함수에서 `return_train_score` 매개변수를 `True`로 지정하면 훈련 폴드에 대한 점수를 계산하여 반환합니다. 훈련 세트에 대한 점수를 보고 과대적합과 과소적합에 대한 정보를 얻을 수 있지만 실행 시간이 오래 걸릴 수 있습니다. `param_range`에 8개의 값이 지정되어 있기 때문에 `SVC` 모델은 `'linear'` 커널에 대해 8번, `'rbf'` 커널에 대해 64번 교차 검증이 수행됩니다. 따라서 훈련 폴드마다 반환되는 점수는 총 72개입니다. 이 값은 `GridSearchCV` 클래스의 `cv_results_` 딕셔너리 속성에 split{폴드번호}_train_score 와 같은 키에 저장되어 있습니다. 예를 들어 첫 번째 폴드의 점수는 `'split0_train_score'` 키로 저장되어 있습니다."
   ]
  },
  {
   "cell_type": "code",
   "execution_count": 20,
   "id": "a4c381c3",
   "metadata": {},
   "outputs": [
    {
     "data": {
      "text/plain": [
       "array([0.6405868 , 0.93643032, 0.97555012, 0.98777506, 0.98533007,\n",
       "       0.99266504, 0.99755501, 1.        , 0.62591687, 0.62591687,\n",
       "       0.62591687, 0.62591687, 0.62591687, 0.62591687, 0.62591687,\n",
       "       0.62591687, 0.62591687, 0.62591687, 0.62591687, 0.62591687,\n",
       "       0.62591687, 0.62591687, 0.62591687, 0.62591687, 0.62591687,\n",
       "       0.62591687, 0.62591687, 0.62591687, 0.62591687, 0.62591687,\n",
       "       0.62591687, 0.62591687, 0.62591687, 0.7799511 , 0.94621027,\n",
       "       0.96577017, 0.62591687, 0.62591687, 0.62591687, 0.62591687,\n",
       "       0.78484108, 0.94621027, 0.9804401 , 0.99266504, 1.        ,\n",
       "       1.        , 1.        , 1.        , 0.94621027, 0.97799511,\n",
       "       0.99266504, 1.        , 1.        , 1.        , 1.        ,\n",
       "       1.        , 0.97799511, 0.98777506, 0.99511002, 1.        ,\n",
       "       1.        , 1.        , 1.        , 1.        , 0.98533007,\n",
       "       0.99266504, 1.        , 1.        , 1.        , 1.        ,\n",
       "       1.        , 1.        ])"
      ]
     },
     "execution_count": 20,
     "metadata": {},
     "output_type": "execute_result"
    }
   ],
   "source": [
    "gs = GridSearchCV(estimator=pipe_svc, \n",
    "                  param_grid=param_grid, \n",
    "                  scoring='accuracy', \n",
    "                  cv=10,\n",
    "                  return_train_score=True,\n",
    "                  n_jobs=-1)\n",
    "gs = gs.fit(X_train, y_train)\n",
    "\n",
    "gs.cv_results_['split0_train_score']"
   ]
  },
  {
   "cell_type": "markdown",
   "id": "245f1101",
   "metadata": {},
   "source": [
    "전체 훈련 점수의 평균 값은 `'mean_train_score'` 키에 저장되어 있습니다."
   ]
  },
  {
   "cell_type": "code",
   "execution_count": 21,
   "id": "c96a6640",
   "metadata": {},
   "outputs": [
    {
     "data": {
      "text/plain": [
       "array([0.6402928 , 0.93724074, 0.97240801, 0.98510406, 0.98803447,\n",
       "       0.99145447, 0.99707019, 0.9992677 , 0.62637307, 0.62637307,\n",
       "       0.62637307, 0.62637307, 0.62637307, 0.62637307, 0.62637307,\n",
       "       0.62637307, 0.62637307, 0.62637307, 0.62637307, 0.62637307,\n",
       "       0.62637307, 0.62637307, 0.62637307, 0.62637307, 0.62637307,\n",
       "       0.62637307, 0.62637307, 0.62637307, 0.62637307, 0.62637307,\n",
       "       0.62637307, 0.62637307, 0.62637307, 0.77070249, 0.94700817,\n",
       "       0.97167094, 0.62637307, 0.62637307, 0.62637307, 0.62637307,\n",
       "       0.77949371, 0.94725326, 0.97704753, 0.99291848, 1.        ,\n",
       "       1.        , 1.        , 1.        , 0.94652096, 0.97753354,\n",
       "       0.99023257, 1.        , 1.        , 1.        , 1.        ,\n",
       "       1.        , 0.97680064, 0.98852287, 0.99755799, 1.        ,\n",
       "       1.        , 1.        , 1.        , 1.        , 0.98803387,\n",
       "       0.99291848, 1.        , 1.        , 1.        , 1.        ,\n",
       "       1.        , 1.        ])"
      ]
     },
     "execution_count": 21,
     "metadata": {},
     "output_type": "execute_result"
    }
   ],
   "source": [
    "gs.cv_results_['mean_train_score']"
   ]
  },
  {
   "cell_type": "markdown",
   "id": "4fc88587",
   "metadata": {},
   "source": [
    "비슷하게 첫 번째 폴드에 대한 테스트 점수는 `'split0_test_score'` 키에 저장되어 있습니다."
   ]
  },
  {
   "cell_type": "code",
   "execution_count": 22,
   "id": "219a15cf",
   "metadata": {},
   "outputs": [
    {
     "data": {
      "text/plain": [
       "array([0.63043478, 0.89130435, 0.95652174, 0.97826087, 0.95652174,\n",
       "       0.93478261, 0.95652174, 0.93478261, 0.63043478, 0.63043478,\n",
       "       0.63043478, 0.63043478, 0.63043478, 0.63043478, 0.63043478,\n",
       "       0.63043478, 0.63043478, 0.63043478, 0.63043478, 0.63043478,\n",
       "       0.63043478, 0.63043478, 0.63043478, 0.63043478, 0.63043478,\n",
       "       0.63043478, 0.63043478, 0.63043478, 0.63043478, 0.63043478,\n",
       "       0.63043478, 0.63043478, 0.63043478, 0.69565217, 0.93478261,\n",
       "       0.95652174, 0.63043478, 0.63043478, 0.63043478, 0.63043478,\n",
       "       0.69565217, 0.93478261, 0.93478261, 1.        , 0.63043478,\n",
       "       0.63043478, 0.63043478, 0.63043478, 0.93478261, 0.97826087,\n",
       "       1.        , 1.        , 0.63043478, 0.63043478, 0.63043478,\n",
       "       0.63043478, 0.97826087, 0.97826087, 0.97826087, 1.        ,\n",
       "       0.63043478, 0.63043478, 0.63043478, 0.63043478, 0.97826087,\n",
       "       0.95652174, 0.95652174, 1.        , 0.63043478, 0.63043478,\n",
       "       0.63043478, 0.63043478])"
      ]
     },
     "execution_count": 22,
     "metadata": {},
     "output_type": "execute_result"
    }
   ],
   "source": [
    "gs.cv_results_['split0_test_score']"
   ]
  },
  {
   "cell_type": "markdown",
   "id": "85d97f19",
   "metadata": {},
   "source": [
    "`GridSearchCV` 클래스의 객체에서도 최종 모델의 `score`, `predict`, `transform` 메서드를 바로 호출할 수 있습니다."
   ]
  },
  {
   "cell_type": "code",
   "execution_count": 23,
   "id": "18c7ce6f",
   "metadata": {},
   "outputs": [
    {
     "name": "stdout",
     "output_type": "stream",
     "text": [
      "테스트 정확도: 0.974\n"
     ]
    }
   ],
   "source": [
    "print('테스트 정확도: %.3f' % gs.score(X_test, y_test))"
   ]
  },
  {
   "cell_type": "markdown",
   "id": "c3f00cbc",
   "metadata": {},
   "source": [
    "매개변수 탐색 범위가 넓거나 규제 매개변수 `C`와 같이 연속적인 값을 탐색해야 하는 경우에 `RandomizedSearchCV`가 더 효율적입니다. 이 클래스는 `n_iter` 매개변수로 탐색 횟수를 조정할 수 있어 컴퓨팅 자원에 맞게 탐색을 실행할 수 있습니다. `GridSearchCV` 클래스에는 탐색할 매개변수 값을 리스트로 전달했습니다. `RandomizedSearchCV`에는 샘플링 가능한 분포를 지정해야 합니다. 예를 들면 `scipy.stats.uniform`, `scipy.stats.randint` 객체 등이 있습니다. 사이킷런 0.22 버전에서 `scipy.stats.reciprocal`을 사용한 로그 균등 분포(log-uniform distribution) 클래스 `loguniform`을 제공합니다.\n",
    "\n",
    "다음 예에서 그리드 서치에서 사용한 것과 동일한 범위로 매개변수 `C`를 탐색해 보겠습니다. 대신 여기에서는 탐색 횟수를 30회로 줄여서 수행합니다."
   ]
  },
  {
   "cell_type": "code",
   "execution_count": 24,
   "id": "02793a0a",
   "metadata": {},
   "outputs": [
    {
     "name": "stdout",
     "output_type": "stream",
     "text": [
      "0.9824637681159419\n",
      "{'svc__C': 210.6644070836221, 'svc__gamma': 0.0006861724481510375, 'svc__kernel': 'rbf'}\n"
     ]
    }
   ],
   "source": [
    "from sklearn.model_selection import RandomizedSearchCV\n",
    "from sklearn.utils.fixes import loguniform\n",
    "\n",
    "distribution =  loguniform(0.0001, 1000.0)\n",
    "\n",
    "param_dist = [{'svc__C': distribution, \n",
    "               'svc__kernel': ['linear']},\n",
    "              {'svc__C': distribution, \n",
    "               'svc__gamma': distribution, \n",
    "               'svc__kernel': ['rbf']}]\n",
    "\n",
    "rs = RandomizedSearchCV(estimator=pipe_svc,\n",
    "                        param_distributions=param_dist,\n",
    "                        n_iter=30,\n",
    "                        cv=10,\n",
    "                        random_state=1,\n",
    "                        n_jobs=-1)\n",
    "rs = rs.fit(X_train, y_train)\n",
    "print(rs.best_score_)\n",
    "print(rs.best_params_)"
   ]
  },
  {
   "cell_type": "markdown",
   "id": "0554eece",
   "metadata": {},
   "source": [
    "결과에서 알 수 있듯이 `RandomizedSearchCV`의 탐색 횟수는 절반 이상 적지만 거의 비슷한 성능을 내는 매개변수 조합을 찾았습니다."
   ]
  },
  {
   "cell_type": "markdown",
   "id": "5745e708",
   "metadata": {},
   "source": [
    "<hr>\n",
    "\n",
    "## 6.4.2 중첩 교차 검증을 사용한 알고리즘 선택"
   ]
  },
  {
   "cell_type": "markdown",
   "id": "b5fe4ccd",
   "metadata": {},
   "source": [
    "여러 종류의 머신 러닝 알고리즘을 비교할 때는 중첩 교차 검증 방법이 권장  \n",
    "(중첩된 교차 검증을 사용했을 때 테스트 데이터셋에 대한 추정 오차는 거의 편향되지 않는다)\n",
    "\n",
    "- 바깥쪽 루프 : 최적의 매개변수로 훈련\n",
    "- 안쪽 루프 : 매개변수 튜닝"
   ]
  },
  {
   "cell_type": "code",
   "execution_count": 25,
   "id": "f750659c",
   "metadata": {},
   "outputs": [
    {
     "data": {
      "text/html": [
       "<img src=\"https://git.io/JtsTP\" width=\"500\"/>"
      ],
      "text/plain": [
       "<IPython.core.display.Image object>"
      ]
     },
     "execution_count": 25,
     "metadata": {},
     "output_type": "execute_result"
    }
   ],
   "source": [
    "Image(url='https://git.io/JtsTP', width=500) "
   ]
  },
  {
   "cell_type": "code",
   "execution_count": 26,
   "id": "7211b48f",
   "metadata": {},
   "outputs": [
    {
     "name": "stdout",
     "output_type": "stream",
     "text": [
      "CV 정확도: 0.974 +/- 0.015\n"
     ]
    }
   ],
   "source": [
    "gs = GridSearchCV(estimator=pipe_svc,\n",
    "                  param_grid=param_grid,\n",
    "                  scoring='accuracy',\n",
    "                  cv=2)\n",
    "\n",
    "scores = cross_val_score(gs, X_train, y_train, \n",
    "                         scoring='accuracy', cv=5)\n",
    "print('CV 정확도: %.3f +/- %.3f' % (np.mean(scores),\n",
    "                                      np.std(scores)))"
   ]
  },
  {
   "cell_type": "code",
   "execution_count": 27,
   "id": "ba5675a5",
   "metadata": {},
   "outputs": [
    {
     "name": "stdout",
     "output_type": "stream",
     "text": [
      "CV 정확도: 0.934 +/- 0.016\n"
     ]
    }
   ],
   "source": [
    "from sklearn.tree import DecisionTreeClassifier\n",
    "\n",
    "gs = GridSearchCV(estimator=DecisionTreeClassifier(random_state=0),\n",
    "                  param_grid=[{'max_depth': [1, 2, 3, 4, 5, 6, 7, None]}],\n",
    "                  scoring='accuracy',\n",
    "                  cv=2)\n",
    "\n",
    "scores = cross_val_score(gs, X_train, y_train, \n",
    "                         scoring='accuracy', cv=5)\n",
    "print('CV 정확도: %.3f +/- %.3f' % (np.mean(scores), \n",
    "                                      np.std(scores)))"
   ]
  },
  {
   "cell_type": "markdown",
   "id": "2f2cb0da",
   "metadata": {},
   "source": [
    "결과에서 알 수 있듯이 SVM모델의 중첩 교차 검증 성능(97.4%)는 결정 트리의 성능(93.4%)보다 훨씬 뛰어나다  \n",
    "이 데이터 셋과 동일 분포에서 발생되는 새로운 데이터를 분류하기 위해서는 SVM이 더 좋은 선택이다"
   ]
  },
  {
   "cell_type": "markdown",
   "id": "92abc62c",
   "metadata": {},
   "source": [
    "<hr>\n",
    "\n",
    "# 6.5 여러 가지 성능 평가 지표"
   ]
  },
  {
   "cell_type": "markdown",
   "id": "6a58b5b9",
   "metadata": {},
   "source": [
    "## 6.5.1 오차 행렬"
   ]
  },
  {
   "cell_type": "code",
   "execution_count": 28,
   "id": "ee3b6f13",
   "metadata": {},
   "outputs": [
    {
     "data": {
      "text/html": [
       "<img src=\"https://git.io/JtsT1\" width=\"300\"/>"
      ],
      "text/plain": [
       "<IPython.core.display.Image object>"
      ]
     },
     "execution_count": 28,
     "metadata": {},
     "output_type": "execute_result"
    }
   ],
   "source": [
    "Image(url='https://git.io/JtsT1', width=300) "
   ]
  },
  {
   "cell_type": "code",
   "execution_count": 29,
   "id": "36e544e5",
   "metadata": {},
   "outputs": [
    {
     "name": "stdout",
     "output_type": "stream",
     "text": [
      "[[71  1]\n",
      " [ 2 40]]\n"
     ]
    }
   ],
   "source": [
    "from sklearn.metrics import confusion_matrix\n",
    "\n",
    "pipe_svc.fit(X_train, y_train)\n",
    "y_pred = pipe_svc.predict(X_test)\n",
    "confmat = confusion_matrix(y_true=y_test, y_pred=y_pred)\n",
    "print(confmat)"
   ]
  },
  {
   "cell_type": "code",
   "execution_count": 30,
   "id": "8e0e55c2",
   "metadata": {},
   "outputs": [
    {
     "data": {
      "image/png": "[encoded data removed]",
      "text/plain": [
       "<Figure size 180x180 with 1 Axes>"
      ]
     },
     "metadata": {
      "needs_background": "light"
     },
     "output_type": "display_data"
    }
   ],
   "source": [
    "fig, ax = plt.subplots(figsize=(2.5, 2.5))\n",
    "ax.matshow(confmat, cmap=plt.cm.Blues, alpha=0.3)\n",
    "for i in range(confmat.shape[0]):\n",
    "    for j in range(confmat.shape[1]):\n",
    "        ax.text(x=j, y=i, s=confmat[i, j], va='center', ha='center')\n",
    "\n",
    "plt.xlabel('Predicted label')\n",
    "plt.ylabel('True label')\n",
    "\n",
    "plt.tight_layout()\n",
    "plt.show()"
   ]
  },
  {
   "cell_type": "code",
   "execution_count": 31,
   "id": "7ff90968",
   "metadata": {},
   "outputs": [
    {
     "data": {
      "image/png": "[encoded data removed]",
      "text/plain": [
       "<Figure size 432x288 with 2 Axes>"
      ]
     },
     "metadata": {
      "needs_background": "light"
     },
     "output_type": "display_data"
    }
   ],
   "source": [
    "from sklearn.metrics import plot_confusion_matrix\n",
    "plot_confusion_matrix(pipe_svc, X_test, y_test)\n",
    "plt.show()"
   ]
  },
  {
   "cell_type": "code",
   "execution_count": 32,
   "id": "98ccb5d2",
   "metadata": {},
   "outputs": [
    {
     "data": {
      "image/png": "[encoded data removed]",
      "text/plain": [
       "<Figure size 432x288 with 2 Axes>"
      ]
     },
     "metadata": {
      "needs_background": "light"
     },
     "output_type": "display_data"
    }
   ],
   "source": [
    "plot_confusion_matrix(pipe_svc, X_test, y_test,\n",
    "                      normalize='all')\n",
    "plt.show()"
   ]
  },
  {
   "cell_type": "markdown",
   "id": "9ec06348",
   "metadata": {},
   "source": [
    "## 6.5.2 분류 모델의 정밀도와 재현율 최적화"
   ]
  },
  {
   "cell_type": "markdown",
   "id": "bddccd80",
   "metadata": {},
   "source": [
    "$예측 오차(ERR) = \\dfrac{FP + FN}{FP + FN + TP + TN}$\n",
    "\n",
    "$정확도(ACC) = \\dfrac{TP + TN}{FP + FN + TP + TN} = 1 - ERR$\n",
    "\n",
    "<hr>\n",
    "\n",
    "$진짜 양성 비율(TPR) = \\dfrac{TP}{P} = \\dfrac{TP}{TP + FN}$\n",
    "\n",
    "$거짓 양성 비율(FPR) = \\dfrac{FP}{N} = \\dfrac{FP}{FP + TN}$\n",
    "\n",
    "<hr>\n",
    "\n",
    "$정밀도(PRE) = \\dfrac{TP}{TP + FP}$\n",
    "\n",
    "$재현율(REC) = \\dfrac{TP}{FN + TP}$\n",
    "\n",
    "$F1 = 2 \\times \\dfrac{정밀도 \\times 재현율}{정밀도 + 재현율}$"
   ]
  },
  {
   "cell_type": "code",
   "execution_count": 33,
   "id": "1eeb23fb",
   "metadata": {},
   "outputs": [
    {
     "name": "stdout",
     "output_type": "stream",
     "text": [
      "정밀도: 0.976\n",
      "재현율: 0.952\n",
      "F1: 0.964\n"
     ]
    }
   ],
   "source": [
    "from sklearn.metrics import precision_score, recall_score, f1_score\n",
    "\n",
    "print('정밀도: %.3f' % precision_score(y_true=y_test, y_pred=y_pred))\n",
    "print('재현율: %.3f' % recall_score(y_true=y_test, y_pred=y_pred))\n",
    "print('F1: %.3f' % f1_score(y_true=y_test, y_pred=y_pred))"
   ]
  },
  {
   "cell_type": "code",
   "execution_count": 34,
   "id": "30e37906",
   "metadata": {},
   "outputs": [
    {
     "name": "stdout",
     "output_type": "stream",
     "text": [
      "0.9861994953378878\n",
      "{'svc__C': 10.0, 'svc__gamma': 0.01, 'svc__kernel': 'rbf'}\n"
     ]
    }
   ],
   "source": [
    "from sklearn.metrics import make_scorer\n",
    "\n",
    "scorer = make_scorer(f1_score, pos_label=0)\n",
    "\n",
    "c_gamma_range = [0.01, 0.1, 1.0, 10.0]\n",
    "\n",
    "param_grid = [{'svc__C': c_gamma_range,\n",
    "               'svc__kernel': ['linear']},\n",
    "              {'svc__C': c_gamma_range,\n",
    "               'svc__gamma': c_gamma_range,\n",
    "               'svc__kernel': ['rbf']}]\n",
    "\n",
    "gs = GridSearchCV(estimator=pipe_svc,\n",
    "                  param_grid=param_grid,\n",
    "                  scoring=scorer,\n",
    "                  cv=10,\n",
    "                  n_jobs=-1)\n",
    "gs = gs.fit(X_train, y_train)\n",
    "print(gs.best_score_)\n",
    "print(gs.best_params_)"
   ]
  },
  {
   "cell_type": "markdown",
   "id": "a6a94db6",
   "metadata": {},
   "source": [
    "## 6.5.3 ROC 곡선 그리기"
   ]
  },
  {
   "cell_type": "markdown",
   "id": "aad93a72",
   "metadata": {},
   "source": [
    "$FPR = \\dfrac{FP}{FP + TN}$"
   ]
  },
  {
   "cell_type": "code",
   "execution_count": 35,
   "id": "dc19502f",
   "metadata": {},
   "outputs": [
    {
     "data": {
      "image/png": "[encoded data removed]",
      "text/plain": [
       "<Figure size 504x360 with 1 Axes>"
      ]
     },
     "metadata": {
      "needs_background": "light"
     },
     "output_type": "display_data"
    }
   ],
   "source": [
    "from sklearn.metrics import roc_curve, auc\n",
    "from distutils.version import LooseVersion as Version\n",
    "from scipy import __version__ as scipy_version\n",
    "\n",
    "\n",
    "if scipy_version >= Version('1.4.1'):\n",
    "    from numpy import interp\n",
    "else:\n",
    "    from scipy import interp\n",
    "\n",
    "\n",
    "pipe_lr = make_pipeline(StandardScaler(),\n",
    "                        PCA(n_components=2),\n",
    "                        LogisticRegression(penalty='l2', \n",
    "                                           random_state=1,\n",
    "                                           C=100.0))\n",
    "\n",
    "X_train2 = X_train[:, [4, 14]]\n",
    "    \n",
    "\n",
    "cv = list(StratifiedKFold(n_splits=3).split(X_train, y_train))\n",
    "\n",
    "fig = plt.figure(figsize=(7, 5))\n",
    "\n",
    "mean_tpr = 0.0\n",
    "mean_fpr = np.linspace(0, 1, 100)\n",
    "\n",
    "for i, (train, test) in enumerate(cv):\n",
    "    probas = pipe_lr.fit(X_train2[train],\n",
    "                         y_train[train]).predict_proba(X_train2[test])\n",
    "\n",
    "    fpr, tpr, thresholds = roc_curve(y_train[test],\n",
    "                                     probas[:, 1],\n",
    "                                     pos_label=1)\n",
    "    mean_tpr += interp(mean_fpr, fpr, tpr)\n",
    "    mean_tpr[0] = 0.0\n",
    "    roc_auc = auc(fpr, tpr)\n",
    "    plt.plot(fpr,\n",
    "             tpr,\n",
    "             label='ROC fold %d (area = %0.2f)'\n",
    "                   % (i+1, roc_auc))\n",
    "\n",
    "plt.plot([0, 1],\n",
    "         [0, 1],\n",
    "         linestyle='--',\n",
    "         color=(0.6, 0.6, 0.6),\n",
    "         label='Random guessing')\n",
    "\n",
    "mean_tpr /= len(cv)\n",
    "mean_tpr[-1] = 1.0\n",
    "mean_auc = auc(mean_fpr, mean_tpr)\n",
    "plt.plot(mean_fpr, mean_tpr, 'k--',\n",
    "         label='Mean ROC (area = %0.2f)' % mean_auc, lw=2)\n",
    "plt.plot([0, 0, 1],\n",
    "         [0, 1, 1],\n",
    "         linestyle=':',\n",
    "         color='black',\n",
    "         label='Perfect performance')\n",
    "\n",
    "plt.xlim([-0.05, 1.05])\n",
    "plt.ylim([-0.05, 1.05])\n",
    "plt.xlabel('False positive rate')\n",
    "plt.ylabel('True positive rate')\n",
    "plt.legend(loc=\"lower right\")\n",
    "\n",
    "plt.tight_layout()\n",
    "plt.show()"
   ]
  },
  {
   "cell_type": "markdown",
   "id": "de65aab6",
   "metadata": {},
   "source": [
    "사이킷런 0.22 버전에서 `plot_roc_curve()` 함수와 `plot_precision_recall_curve()` 함수를 사용하면 ROC 곡선과 정밀도-재현율 곡선을 쉽게 그릴 수 있습니다."
   ]
  },
  {
   "cell_type": "code",
   "execution_count": 37,
   "id": "92c481aa",
   "metadata": {},
   "outputs": [
    {
     "data": {
      "image/png": "[encoded data removed]",
      "text/plain": [
       "<Figure size 504x360 with 1 Axes>"
      ]
     },
     "metadata": {
      "needs_background": "light"
     },
     "output_type": "display_data"
    }
   ],
   "source": [
    "from sklearn.metrics import plot_roc_curve\n",
    "\n",
    "fig, ax = plt.subplots(figsize=(7, 5))\n",
    "\n",
    "mean_tpr = 0.0\n",
    "mean_fpr = np.linspace(0, 1, 100)\n",
    "\n",
    "for i, (train, test) in enumerate(cv):\n",
    "    pipe_lr.fit(X_train2[train], y_train[train])\n",
    "    roc_disp = plot_roc_curve(pipe_lr, \n",
    "                              X_train2[test], y_train[test], \n",
    "                              name=f'Fold {i}', ax=ax)\n",
    "    mean_tpr += interp(mean_fpr, roc_disp.fpr, roc_disp.tpr)\n",
    "    mean_tpr[0] = 0.0\n",
    "\n",
    "plt.plot([0, 1], [0, 1],\n",
    "         linestyle='--', color=(0.6, 0.6, 0.6),\n",
    "         label='Random guessing')\n",
    "\n",
    "mean_tpr /= len(cv)\n",
    "mean_tpr[-1] = 1.0\n",
    "mean_auc = auc(mean_fpr, mean_tpr)\n",
    "plt.plot(mean_fpr, mean_tpr, 'k--',\n",
    "         label='Mean ROC (area = %0.2f)' % mean_auc, lw=2)\n",
    "\n",
    "plt.plot([0, 0, 1], [0, 1, 1],\n",
    "         linestyle=':', color='black',\n",
    "         label='Perfect performance')\n",
    "\n",
    "plt.xlim([-0.05, 1.05])\n",
    "plt.ylim([-0.05, 1.05])\n",
    "plt.xlabel('False positive rate')\n",
    "plt.ylabel('True positive rate')\n",
    "plt.legend(loc=\"lower right\")\n",
    "plt.show()"
   ]
  },
  {
   "cell_type": "code",
   "execution_count": 40,
   "id": "bba73804",
   "metadata": {},
   "outputs": [
    {
     "data": {
      "image/png": "[encoded data removed]",
      "text/plain": [
       "<Figure size 504x360 with 1 Axes>"
      ]
     },
     "metadata": {
      "needs_background": "light"
     },
     "output_type": "display_data"
    }
   ],
   "source": [
    "from sklearn.metrics import plot_precision_recall_curve\n",
    "\n",
    "fig, ax = plt.subplots(figsize=(7, 5))\n",
    "\n",
    "mean_precision = 0.0\n",
    "mean_recall = np.linspace(0, 1, 100)\n",
    "\n",
    "for i, (train, test) in enumerate(cv):\n",
    "    pipe_lr.fit(X_train2[train], y_train[train])\n",
    "    pr_disp = plot_precision_recall_curve(\n",
    "        pipe_lr, X_train2[test], y_train[test], \n",
    "        name=f'Fold {i}', ax=ax)\n",
    "    mean_precision += interp(mean_recall, pr_disp.recall[::-1], \n",
    "                             pr_disp.precision[::-1])\n",
    "\n",
    "plt.plot([0, 1], [1, 0],\n",
    "         linestyle='--', color=(0.6, 0.6, 0.6),\n",
    "         label='Random guessing')\n",
    "\n",
    "mean_precision /= len(cv)\n",
    "mean_auc = auc(mean_recall, mean_precision)\n",
    "plt.plot(mean_recall, mean_precision, 'k--',\n",
    "         label='Mean ROC (area = %0.2f)' % mean_auc, lw=2)\n",
    "\n",
    "plt.plot([0, 1, 1], [1, 1, 0],\n",
    "         linestyle=':', color='black',\n",
    "         label='Perfect performance')\n",
    "\n",
    "plt.xlim([-0.05, 1.05])\n",
    "plt.ylim([-0.05, 1.05])\n",
    "plt.xlabel('Recall')\n",
    "plt.ylabel('Precision')\n",
    "plt.legend(loc=\"lower left\")\n",
    "plt.show()"
   ]
  },
  {
   "cell_type": "markdown",
   "id": "2d6f2ac0",
   "metadata": {},
   "source": [
    "## 6.5.4 다중 분류의 성능 지표"
   ]
  },
  {
   "cell_type": "markdown",
   "id": "7e46bb3c",
   "metadata": {},
   "source": [
    "$PRE_{micro} = \\dfrac{TP_1+\\cdots+TP_k}{TP_1+\\cdots+TP_k+FP_1+\\cdots+FP_k}$\n",
    "\n",
    "$PRE_{macro} = \\dfrac{PRE_1+\\cdots+PRE_k}{k}$\n",
    "\n",
    "$PRE_{weighted} = \\dfrac{PRE_1 \\times n_1+\\cdots+PRE_k \\times n_k}{n}$\n",
    "\n",
    "$PRE_{samples} = \\dfrac{PRE_1+\\cdots+PRE_n}{n}$"
   ]
  },
  {
   "cell_type": "code",
   "execution_count": 41,
   "id": "b6f8f921",
   "metadata": {},
   "outputs": [],
   "source": [
    "# average 기본값 'binary'\n",
    "pre_scorer = make_scorer(score_func=precision_score, \n",
    "                         pos_label=1, \n",
    "                         greater_is_better=True, \n",
    "                         average='micro')"
   ]
  },
  {
   "cell_type": "markdown",
   "id": "8b6eaf65",
   "metadata": {},
   "source": [
    "<hr>\n",
    "\n",
    "# 6.6 불균형한 클래스 다루기"
   ]
  },
  {
   "cell_type": "code",
   "execution_count": 42,
   "id": "9a395294",
   "metadata": {},
   "outputs": [
    {
     "data": {
      "text/plain": [
       "89.92443324937027"
      ]
     },
     "execution_count": 42,
     "metadata": {},
     "output_type": "execute_result"
    }
   ],
   "source": [
    "X_imb = np.vstack((X[y == 0], X[y == 1][:40]))\n",
    "y_imb = np.hstack((y[y == 0], y[y == 1][:40]))\n",
    "\n",
    "y_pred = np.zeros(y_imb.shape[0])\n",
    "np.mean(y_pred == y_imb) * 100"
   ]
  },
  {
   "cell_type": "code",
   "execution_count": 43,
   "id": "e75cd9a0",
   "metadata": {},
   "outputs": [
    {
     "name": "stdout",
     "output_type": "stream",
     "text": [
      "샘플링하기 전 클래스 1의 샘플 개수: 40\n",
      "샘플링하기 후 클래스 1의 샘플 개수: 357\n"
     ]
    }
   ],
   "source": [
    "from sklearn.utils import resample\n",
    "\n",
    "print('샘플링하기 전 클래스 1의 샘플 개수:', X_imb[y_imb == 1].shape[0])\n",
    "\n",
    "X_upsampled, y_upsampled = resample(X_imb[y_imb == 1],\n",
    "                                    y_imb[y_imb == 1],\n",
    "                                    replace=True,\n",
    "                                    n_samples=X_imb[y_imb == 0].shape[0],\n",
    "                                    random_state=123)\n",
    "\n",
    "print('샘플링하기 후 클래스 1의 샘플 개수:', X_upsampled.shape[0])"
   ]
  },
  {
   "cell_type": "code",
   "execution_count": 44,
   "id": "2c7c4ac1",
   "metadata": {},
   "outputs": [],
   "source": [
    "X_bal = np.vstack((X[y == 0], X_upsampled))\n",
    "y_bal = np.hstack((y[y == 0], y_upsampled))"
   ]
  },
  {
   "cell_type": "code",
   "execution_count": 45,
   "id": "9d0e4459",
   "metadata": {},
   "outputs": [
    {
     "data": {
      "text/plain": [
       "50.0"
      ]
     },
     "execution_count": 45,
     "metadata": {},
     "output_type": "execute_result"
    }
   ],
   "source": [
    "y_pred = np.zeros(y_bal.shape[0])\n",
    "np.mean(y_pred == y_bal) * 100"
   ]
  },
  {
   "cell_type": "markdown",
   "id": "a576529b",
   "metadata": {},
   "source": [
    "# 요약"
   ]
  },
  {
   "cell_type": "markdown",
   "id": "3ead781d",
   "metadata": {},
   "source": [
    "머신 러닝 모델을 효율적으로 훈련하고 평가하기 위해 여러 개의 변환기와 분류기를 모델 파이프라인으로 연결하는 방식을 사용  \n",
    "k-겹 교차 검증으로 학습 곡선과 검증 곡선을 그려서 과대적합과 과소적합 같은 문제를 분석  \n",
    "모델 세부 튜닝을 위해 그리드 서치를 사용 -> 오차 행렬과 다양한 성능 지표를 사용하여 해당 문제에 맞는 모델의 성능을 평가하고 최적화"
   ]
  },
  {
   "cell_type": "code",
   "execution_count": null,
   "id": "2a084e34",
   "metadata": {},
   "outputs": [],
   "source": []
  }
 ],
 "metadata": {
  "kernelspec": {
   "display_name": "Python 3 (ipykernel)",
   "language": "python",
   "name": "python3"
  },
  "language_info": {
   "codemirror_mode": {
    "name": "ipython",
    "version": 3
   },
   "file_extension": ".py",
   "mimetype": "text/x-python",
   "name": "python",
   "nbconvert_exporter": "python",
   "pygments_lexer": "ipython3",
   "version": "3.9.7"
  }
 },
 "nbformat": 4,
 "nbformat_minor": 5
}
